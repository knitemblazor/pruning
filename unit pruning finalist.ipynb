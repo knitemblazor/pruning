{
 "cells": [
  {
   "cell_type": "code",
   "execution_count": 198,
   "metadata": {
    "_cell_guid": "79c7e3d0-c299-4dcb-8224-4455121ee9b0",
    "_uuid": "d629ff2d2480ee46fbb7e2d37f6b5fab8052498a"
   },
   "outputs": [],
   "source": [
    "import tensorflow as tf\n",
    "import matplotlib.pyplot as plt\n",
    "%matplotlib inline\n",
    "tf.reset_default_graph()"
   ]
  },
  {
   "cell_type": "code",
   "execution_count": 199,
   "metadata": {},
   "outputs": [
    {
     "name": "stdout",
     "output_type": "stream",
     "text": [
      "Extracting MNIST_data/train-images-idx3-ubyte.gz\n",
      "Extracting MNIST_data/train-labels-idx1-ubyte.gz\n",
      "Extracting MNIST_data/t10k-images-idx3-ubyte.gz\n",
      "Extracting MNIST_data/t10k-labels-idx1-ubyte.gz\n"
     ]
    }
   ],
   "source": [
    "from tensorflow.examples.tutorials.mnist import input_data\n",
    "mnist= input_data.read_data_sets('MNIST_data',one_hot=True)"
   ]
  },
  {
   "cell_type": "code",
   "execution_count": 200,
   "metadata": {},
   "outputs": [],
   "source": [
    "# Parameters\n",
    "learning_rate = 0.001\n",
    "training_epochs = 15\n",
    "batch_size = 100\n",
    "display_step = 1\n"
   ]
  },
  {
   "cell_type": "code",
   "execution_count": 201,
   "metadata": {},
   "outputs": [],
   "source": [
    "# Network Parameters\n",
    "n_hidden_1 = 1000 # 1st layer num features\n",
    "n_hidden_2 = 1000 # 2nd layer num features\n",
    "n_hidden_3 = 500  # 3rd layer num features\n",
    "n_hidden_4 = 200  # 4th layer num features\n",
    "n_input = 784 # MNIST data input (img shape: 28*28)\n",
    "n_classes = 10 # MNIST total classes (0-9 digits)"
   ]
  },
  {
   "cell_type": "code",
   "execution_count": 202,
   "metadata": {},
   "outputs": [],
   "source": [
    "# tf Graph input\n",
    "x = tf.placeholder(\"float\", [None, n_input])\n",
    "y = tf.placeholder(\"float\", [None, n_classes])"
   ]
  },
  {
   "cell_type": "code",
   "execution_count": 203,
   "metadata": {},
   "outputs": [],
   "source": [
    "# Create model\n",
    "import numpy  as np\n",
    "def multilayer_perceptron(_X, _weights):\n",
    "    #Hidden layer with RELU activation\n",
    "    layer_1 = tf.nn.relu(tf.matmul(_X, _weights['h1'])) \n",
    "    #Hidden layer with RELU activation\n",
    "    layer_2  = tf.nn.relu(tf.matmul(layer_1, _weights['h2']))\n",
    "    #Hidden layer with RELU activation\n",
    "    layer_3 = tf.nn.relu(tf.matmul(layer_2, _weights['h3']))\n",
    "    #Hidden layer with RELU activation\n",
    "    layer_4 = tf.nn.relu(tf.matmul(layer_3, _weights['h4']))\n",
    "    return tf.matmul(layer_4, weights['out'])\n",
    "\n",
    "# Store layers weight & bias\n",
    "weights = {\n",
    "    'h1': tf.Variable(tf.random_normal([n_input, n_hidden_1])),\n",
    "    'h2': tf.Variable(tf.random_normal([n_hidden_1, n_hidden_2])),\n",
    "    'h3': tf.Variable(tf.random_normal([n_hidden_2, n_hidden_3])),\n",
    "    'h4': tf.Variable(tf.random_normal([n_hidden_3, n_hidden_4])),\n",
    "    'out': tf.Variable(tf.random_normal([n_hidden_4, n_classes]))\n",
    "}\n"
   ]
  },
  {
   "cell_type": "code",
   "execution_count": 213,
   "metadata": {},
   "outputs": [],
   "source": [
    "def pruner2part1(weights):\n",
    "    weightsp1=np.array(weights['h1'].eval())\n",
    "    weightsp2=np.array(weights['h2'].eval())\n",
    "    weightsp3=np.array(weights['h3'].eval())\n",
    "    weightsp4=np.array(weights['h4'].eval())\n",
    "    \n",
    "    def sub(weightsp,row,column):\n",
    "        checkpoints=[0, 25, 50, 60, 70, 80, 90, 95, 97, 99]\n",
    "        c=[]\n",
    "        d=[]\n",
    "        \n",
    "        count=0\n",
    "        total=0\n",
    "        weightsq=np.dot(np.array(weightsp),np.array(weightsp).transpose())\n",
    "        wess=[]\n",
    "        for i in range(row):\n",
    "            for j in range(column):\n",
    "                if(i==j):\n",
    "                    wess.append(weightsq[i][j])\n",
    "#                         print(weightsq[i][j])\n",
    "        wess.sort()\n",
    "        print(type(wess))\n",
    "        print(len(wess))\n",
    "        for l in checkpoints:\n",
    "            a=np.round((l/100)*len(wess)).astype(int)\n",
    "            for i in range(a,a+1):\n",
    "                c.append(wess[i])\n",
    "            d.append(l)\n",
    "        return(c,d)\n",
    "    \n",
    "    k1,perc1 = sub(weightsp1,n_input,n_hidden_1)\n",
    "    k2,perc2 = sub(weightsp2,n_hidden_1,n_hidden_2)\n",
    "    k3,perc3 = sub(weightsp3,n_hidden_2,n_hidden_3)\n",
    "    k4,perc4 = sub(weightsp4,n_hidden_3,n_hidden_4)\n",
    "    return (k1,k2,k3,k4,perc1,perc2,perc3,perc4)"
   ]
  },
  {
   "cell_type": "code",
   "execution_count": 216,
   "metadata": {},
   "outputs": [],
   "source": [
    " def sub(weightsp,k,row,column):\n",
    "    count=0\n",
    "    total=0\n",
    "    weightsq=np.dot(np.array(weightsp),np.array(weightsp).transpose())\n",
    "    for i in range(row):\n",
    "        for j in range(column):\n",
    "            if (i==j):\n",
    "                if(np.absolute(weightsq[i][j])<np.round(k,4)):\n",
    "                    weightsp[:,j]=0\n",
    "    return(weightsp)\n",
    "    \n",
    "def pruner2part2(k1,k2,k3,k4,weights):\n",
    "    weightsp1=np.array(weights['h1'].eval())\n",
    "    weightsp2=np.array(weights['h2'].eval())\n",
    "    weightsp3=np.array(weights['h3'].eval())\n",
    "    weightsp4=np.array(weights['h4'].eval())\n",
    "    weightsupreme1=[]\n",
    "    weightsupreme2=[]\n",
    "    weightsupreme3=[]\n",
    "    weightsupreme4=[]\n",
    "    for m in k1:\n",
    "        weightsupreme1.append(sub(np.array(weightsp1),m,n_input,n_hidden_1))\n",
    "    for m in k2:\n",
    "        weightsupreme2.append(sub(np.array(weightsp2),m,n_hidden_1,n_hidden_2))\n",
    "    for m in k3:\n",
    "        weightsupreme3.append(sub(np.array(weightsp3),m,n_hidden_2,n_hidden_3))\n",
    "    for m in k4:\n",
    "        weightsupreme4.append(sub(np.array(weightsp4),m,n_hidden_3,n_hidden_4))\n",
    "    return(weightsupreme1,weightsupreme2,weightsupreme3,weightsupreme4)\n",
    "\n",
    "def pruner2part3(x,w1,w2,w3,w4,weights):\n",
    "    #Hidden layer with RELU activation\n",
    "    layer_1 = tf.nn.relu(tf.matmul(x,w1))\n",
    "    #Hidden layer with RELU activation\n",
    "    layer_2  = tf.nn.relu(tf.matmul(layer_1,w2))\n",
    "    #Hidden layer with RELU activation\n",
    "    layer_3 = tf.nn.relu(tf.matmul(layer_2,w3))\n",
    "    #Hidden layer with RELU activation\n",
    "    layer_4 = tf.nn.relu(tf.matmul(layer_3,w4))\n",
    "    return tf.matmul(layer_4, weights['out'])\n",
    "    "
   ]
  },
  {
   "cell_type": "code",
   "execution_count": 217,
   "metadata": {},
   "outputs": [
    {
     "name": "stdout",
     "output_type": "stream",
     "text": [
      "Epoch: 0001 cost= 36158.758307440\n",
      "Epoch: 0002 cost= 6720.362765725\n",
      "Epoch: 0003 cost= 2895.032691148\n",
      "Epoch: 0004 cost= 1277.292983210\n",
      "Epoch: 0005 cost= 693.816917525\n",
      "Epoch: 0006 cost= 357.616561844\n",
      "Epoch: 0007 cost= 246.034954104\n",
      "Epoch: 0008 cost= 224.230458902\n",
      "Epoch: 0009 cost= 155.432503301\n",
      "Epoch: 0010 cost= 168.885167377\n",
      "Epoch: 0011 cost= 145.233667122\n",
      "Epoch: 0012 cost= 123.496768869\n",
      "Epoch: 0013 cost= 84.350841188\n",
      "Epoch: 0014 cost= 81.319436877\n",
      "Epoch: 0015 cost= 80.653316722\n",
      "Optimization Finished!\n",
      "<class 'list'>\n",
      "784\n",
      "<class 'list'>\n",
      "1000\n",
      "<class 'list'>\n",
      "500\n",
      "<class 'list'>\n",
      "200\n",
      "[878.5578, 973.329, 1002.5409, 1012.7346, 1023.9597, 1039.9825, 1059.1954, 1075.8711, 1087.604, 1109.6134] [880.0915, 972.2444, 1000.90656, 1013.2925, 1025.9607, 1040.706, 1062.4083, 1079.0123, 1089.2269, 1108.7295] [382.82495, 482.43448, 501.8055, 510.87262, 518.9234, 530.0069, 543.9291, 556.3927, 564.4149, 582.989] [155.01337, 185.05374, 196.96358, 200.24086, 205.07942, 212.30487, 224.10542, 229.37582, 236.3115, 253.50879]\n",
      "Accuracy for : 0 % pruning 0.9662\n",
      "Accuracy for : 25 % pruning 0.4936\n",
      "Accuracy for : 50 % pruning 0.2073\n",
      "Accuracy for : 60 % pruning 0.1448\n",
      "Accuracy for : 70 % pruning 0.1018\n",
      "Accuracy for : 80 % pruning 0.1185\n",
      "Accuracy for : 90 % pruning 0.1244\n",
      "Accuracy for : 95 % pruning 0.0814\n",
      "Accuracy for : 97 % pruning 0.0896\n",
      "Accuracy for : 99 % pruning 0.098\n"
     ]
    },
    {
     "data": {
      "image/png": "[encoded data removed]",
      "text/plain": [
       "<Figure size 432x288 with 1 Axes>"
      ]
     },
     "metadata": {},
     "output_type": "display_data"
    },
    {
     "name": "stdout",
     "output_type": "stream",
     "text": [
      "Accuracy for 0% pruning 0.9663\n"
     ]
    }
   ],
   "source": [
    "# Define loss and optimizer\n",
    "# Softmax loss\n",
    "pred = multilayer_perceptron(x, weights)\n",
    "cost = tf.reduce_mean(tf.nn.softmax_cross_entropy_with_logits(logits=pred,labels=y)) \n",
    "# Adam Optimizer\n",
    "optimizer = tf.train.AdamOptimizer(learning_rate=learning_rate).minimize(cost)\n",
    "init = tf.global_variables_initializer()\n",
    "\n",
    "\n",
    "# saver = tf.train.Saver()\n",
    "# Launch the graph\n",
    "with tf.Session() as sess:\n",
    "    sess.run(init)\n",
    "\n",
    "    # Training cycle\n",
    "    for epoch in range(training_epochs):\n",
    "        avg_cost = 0.\n",
    "        total_batch = int(mnist.train.num_examples/batch_size)\n",
    "        # Loop over all batches\n",
    "        for i in range(total_batch):\n",
    "            batch_xs, batch_ys = mnist.train.next_batch(batch_size)\n",
    "            # Fit training using batch data\n",
    "            sess.run(optimizer, feed_dict={x: batch_xs, y: batch_ys})\n",
    "            # Compute average loss\n",
    "            avg_cost += sess.run(cost, feed_dict={x: batch_xs, y: batch_ys})/total_batch\n",
    "        # Display logs per epoch step\n",
    "        if epoch % display_step == 0:\n",
    "            print (\"Epoch:\", '%04d' % (epoch+1), \"cost=\", \"{:.9f}\".format(avg_cost))\n",
    "\n",
    "    print (\"Optimization Finished!\")\n",
    "\n",
    "    # Test model\n",
    "#     correct_prediction = tf.equal(tf.argmax(pred, 1), tf.argmax(y, 1))\n",
    "    k1,k2,k3,k4,perc1,perc2,perc3,perc4=pruner2part1(weights)\n",
    "    print(k1,k2,k3,k4)\n",
    "    w1,w2,w3,w4=pruner2part2(k1,k2,k3,k4,weights)\n",
    "#     print(w1,w2,w3,w4)\n",
    "    checkpts=[0, 25, 50, 60, 70, 80, 90, 95, 97, 99]\n",
    "    accu=[]\n",
    "    for r in range(10):\n",
    "        correct_prediction = tf.equal(tf.argmax(pruner2part3(x,(w1[r]),(w2[r]),(w3[r]),(w4[r]),weights), 1), tf.argmax(y, 1))\n",
    "        accuracy = tf.reduce_mean(tf.cast(correct_prediction, \"float\"))\n",
    "        accu.append(accuracy.eval({x: mnist.test.images, y: mnist.test.labels}))\n",
    "        print (\"Accuracy for :\",checkpts[r],\"% pruning\" ,accuracy.eval({x: mnist.test.images, y: mnist.test.labels}))\n",
    "    plt.plot(checkpts,accu)\n",
    "    plt.xlabel(\"pruning precentage\")\n",
    "    plt.ylabel(\"accuracy\")\n",
    "    plt.show()\n",
    "    correct_prediction = tf.equal(tf.argmax(pred, 1), tf.argmax(y, 1))\n",
    "    accuracy = tf.reduce_mean(tf.cast(correct_prediction, \"float\"))\n",
    "    print (\"Accuracy for 0% pruning\", accuracy.eval({x: mnist.test.images, y: mnist.test.labels}))"
   ]
  },
  {
   "cell_type": "code",
   "execution_count": null,
   "metadata": {},
   "outputs": [],
   "source": []
  }
 ],
 "metadata": {
  "kernelspec": {
   "display_name": "Python 3",
   "language": "python",
   "name": "python3"
  },
  "language_info": {
   "codemirror_mode": {
    "name": "ipython",
    "version": 3
   },
   "file_extension": ".py",
   "mimetype": "text/x-python",
   "name": "python",
   "nbconvert_exporter": "python",
   "pygments_lexer": "ipython3",
   "version": "3.6.7"
  }
 },
 "nbformat": 4,
 "nbformat_minor": 1
}
